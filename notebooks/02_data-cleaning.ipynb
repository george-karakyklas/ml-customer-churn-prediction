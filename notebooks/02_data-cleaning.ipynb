{
 "cells": [
  {
   "cell_type": "code",
   "execution_count": 92,
   "id": "4af3363e",
   "metadata": {},
   "outputs": [],
   "source": [
    "import pandas as pd\n",
    "\n",
    "#Load dataset\n",
    "df = pd.read_csv(\"../data/telco_churn.csv\")"
   ]
  },
  {
   "cell_type": "code",
   "execution_count": 93,
   "id": "3b6b79f5",
   "metadata": {},
   "outputs": [],
   "source": [
    "# Convert TotalCharges column to numeric values, turning any encountered errors to NaN\n",
    "df['TotalCharges'] = pd.to_numeric(df['TotalCharges'], errors='coerce')\n",
    "\n",
    "# Remove any missing values\n",
    "df = df.dropna(subset=['TotalCharges'])"
   ]
  },
  {
   "cell_type": "code",
   "execution_count": 94,
   "id": "cc9c0416",
   "metadata": {},
   "outputs": [],
   "source": [
    "# Drop ID column since it's not useful for prediction\n",
    "df = df.drop(columns=['customerID'])"
   ]
  },
  {
   "cell_type": "code",
   "execution_count": 95,
   "id": "5f0a4d8e",
   "metadata": {},
   "outputs": [],
   "source": [
    "# Binary Encoding\n",
    "df['gender'] = df['gender'].map({'Male': 1, 'Female': 0})\n",
    "df['Partner'] = df['Partner'].map({'Yes': 1, 'No': 0})\n",
    "df['Dependents'] = df['Dependents'].map({'Yes': 1, 'No': 0})\n",
    "df['PhoneService'] = df['PhoneService'].map({'Yes': 1, 'No': 0})\n",
    "df['PaperlessBilling'] = df['PaperlessBilling'].map({'Yes': 1, 'No': 0})\n",
    "df['Churn'] = df['Churn'].map({'Yes': 1, 'No': 0})  # target variable"
   ]
  },
  {
   "cell_type": "code",
   "execution_count": 96,
   "id": "be486937",
   "metadata": {},
   "outputs": [],
   "source": [
    "# Label Encoding for categorical columns\n",
    "from sklearn.preprocessing import LabelEncoder\n",
    "\n",
    "# Identify object (categorical) columns\n",
    "cat_cols = df.select_dtypes(include='object').columns\n",
    "\n",
    "# Initialize and apply label encoder\n",
    "le = LabelEncoder()\n",
    "for col in cat_cols:\n",
    "    df[col] = le.fit_transform(df[col])"
   ]
  },
  {
   "cell_type": "code",
   "execution_count": 97,
   "id": "00d1998c",
   "metadata": {},
   "outputs": [],
   "source": [
    "# Save changes to dataset\n",
    "df.to_csv('../data/telco_churn_cleaned.csv', index=False)"
   ]
  }
 ],
 "metadata": {
  "kernelspec": {
   "display_name": "venv",
   "language": "python",
   "name": "python3"
  },
  "language_info": {
   "codemirror_mode": {
    "name": "ipython",
    "version": 3
   },
   "file_extension": ".py",
   "mimetype": "text/x-python",
   "name": "python",
   "nbconvert_exporter": "python",
   "pygments_lexer": "ipython3",
   "version": "3.11.9"
  }
 },
 "nbformat": 4,
 "nbformat_minor": 5
}
